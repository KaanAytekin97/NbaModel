{
 "cells": [
  {
   "cell_type": "markdown",
   "metadata": {},
   "source": [
    "### NBA SEASON TEAM FEED"
   ]
  },
  {
   "cell_type": "code",
   "execution_count": 149,
   "metadata": {},
   "outputs": [],
   "source": [
    "import pandas as pd\n",
    "import numpy as np\n",
    "from statistics import mean\n",
    "from statistics import stdev\n",
    "from sklearn.model_selection import train_test_split\n",
    "from sklearn.metrics import accuracy_score\n",
    "from sklearn.linear_model import LogisticRegression\n",
    "from sklearn.feature_selection import f_regression\n",
    "import warnings\n",
    "\n",
    "warnings.filterwarnings('ignore')\n",
    "pd.options.display.max_rows = None\n",
    "pd.options.display.max_columns = None"
   ]
  },
  {
   "cell_type": "markdown",
   "metadata": {},
   "source": [
    "### DATA PREPROCESSING"
   ]
  },
  {
   "cell_type": "code",
   "execution_count": 2,
   "metadata": {},
   "outputs": [],
   "source": [
    "sc_data = pd.read_excel(\"05-16-2021-nba-season-team-feed.xlsx\")\n",
    "column_names = ['BIGDATABALL DATASET', 'GAME-ID', 'DATE', 'TEAM', 'VENUE', '1Q', '2Q',\n",
    "       '3Q', '4Q', 'OT1', 'OT2', 'OT3', 'OT4', 'OT5', 'FINAL SCORE', 'MIN', 'FG', 'FGA',\n",
    "       '3P', '3PA', 'FT', 'FTA', 'OR', 'DR', 'TOT', 'AST', 'PF', 'ST', 'TO',\n",
    "       'TO TO', 'BL', 'PTS', 'POSS', 'PACE', 'OEFF', 'DEFF',\n",
    "       'TEAM REST DAYS', 'SHOOTING FORWARD','POWER FORWARD',  'CENTER', 'SHOOTING GUARD','POINT GUARD',\n",
    "       'MAIN REF', 'CREW', 'OPENING ODDS',\n",
    "       'OPENING SPREAD', 'OPENING TOTAL', 'LINE MOVEMENT #1',\n",
    "       'LINE MOVEMENT #2', 'LINE MOVEMENT #3', 'CLOSING ODDS',\n",
    "       'CLOSING SPREAD', 'CLOSING TOTAL', 'MONEYLINE', 'HALFTIME',\n",
    "       'BOX SCORE URL', 'FULL GAME ODDS URL']\n",
    "sc_data.columns = column_names\n",
    "\n",
    "sc_data = sc_data.drop(['MAIN REF', 'CREW'],1)\n",
    "bd = sc_data.drop(['BIGDATABALL DATASET','GAME-ID','MIN', 'FG', 'FGA','3P', '3PA', 'FT', 'FTA', 'OR', 'DR', 'TOT', \n",
    "                   'AST', 'PF', 'ST', 'TO','TO TO', 'BL', 'PTS', 'POSS', 'PACE', 'OEFF', 'DEFF', 'TEAM REST DAYS',\n",
    "                   'BOX SCORE URL','FULL GAME ODDS URL'],1)\n",
    "\n",
    "ht_score = []\n",
    "for i in range(0,len(bd['TEAM']),2):\n",
    "    ht_score.append(str((int(bd['1Q'][i]) + int(bd['2Q'][i]))) + \" \" + str((int(bd['1Q'][i+1]) + int(bd['2Q'][i+1]))))\n",
    "    ht_score.append(str((int(bd['1Q'][i+1]) + int(bd['2Q'][i+1]))) + \" \" + str((int(bd['1Q'][i]) + int(bd['2Q'][i]))))\n",
    "bd.insert(13, 'HALF TIME SCORE', ht_score)\n",
    "final_score = []\n",
    "for i in range(0,len(bd['TEAM']),1):\n",
    "    if i %2 ==0:\n",
    "        final_score.append(str(bd['FINAL SCORE'][i]) + \" \" + str(bd['FINAL SCORE'][i+1]))\n",
    "    else:\n",
    "        final_score.append(str(bd['FINAL SCORE'][i]) + \" \" + str(bd['FINAL SCORE'][i-1]))\n",
    "bd.insert(14,'FULL TIME SCORE', final_score)\n",
    "bd = bd.drop('FINAL SCORE',1)\n",
    "\n",
    "data = bd.drop(['OT1', 'OT2', 'OT3', 'OT4', 'OT5','OPENING ODDS', 'OPENING SPREAD', 'OPENING TOTAL','LINE MOVEMENT #1',\n",
    "       'LINE MOVEMENT #2', 'LINE MOVEMENT #3', 'CLOSING ODDS',\n",
    "       'CLOSING SPREAD', 'CLOSING TOTAL', 'MONEYLINE', 'HALFTIME'],1)\n",
    "\n",
    "ht_outcome = []\n",
    "ft_outcome = []\n",
    "\n",
    "for i in range(0,len(data),1):\n",
    "    \n",
    "    if int(data.loc[i]['HALF TIME SCORE'].split()[0]) == int(data.loc[i]['HALF TIME SCORE'].split()[1]):\n",
    "        ht_outcome.append('T')\n",
    "        \n",
    "    elif int(data.loc[i]['HALF TIME SCORE'].split()[0]) > int(data.loc[i]['HALF TIME SCORE'].split()[1]):\n",
    "        ht_outcome.append('W')\n",
    "     \n",
    "    else:\n",
    "        ht_outcome.append('L')\n",
    "    \n",
    "    if int(data.loc[i]['FULL TIME SCORE'].split()[0]) > int(data.loc[i]['FULL TIME SCORE'].split()[1]):\n",
    "        ft_outcome.append('W')\n",
    "    else:\n",
    "        ft_outcome.append('L')\n",
    "data.insert(5,'HT OUTCOME', ht_outcome)\n",
    "data.insert(9,'FT OUTCOME', ft_outcome)\n",
    "\n",
    "lead_change = []\n",
    "\n",
    "for i in range(0, len(data), 1):\n",
    "    if data.loc[i]['HT OUTCOME'] == data.loc[i]['FT OUTCOME']:\n",
    "        lead_change.append('No')\n",
    "    else:\n",
    "        lead_change.append('Yes')\n",
    "data.insert(11,'LEAD CHANGE', lead_change)\n",
    "\n",
    "ht_ft = []\n",
    "\n",
    "for i in range(0,len(data),1):\n",
    "    if data.iloc[i]['HT OUTCOME'] == 'L':\n",
    "        if data.iloc[i]['FT OUTCOME'] == 'L':\n",
    "            ht_ft.append('L/L')\n",
    "        else:\n",
    "            ht_ft.append('L/W')\n",
    "\n",
    "    elif data.iloc[i]['HT OUTCOME'] == 'T':\n",
    "        if data.iloc[i]['FT OUTCOME'] == 'W':\n",
    "            ht_ft.append('T/W')\n",
    "        else:\n",
    "            ht_ft.append('T/L')\n",
    "    else:\n",
    "        if data.iloc[i]['FT OUTCOME'] == 'W':\n",
    "            ht_ft.append('W/W')\n",
    "        else:\n",
    "            ht_ft.append('W/L')\n",
    "data.insert(11,'HT/FT', ht_ft)\n",
    "data = data.drop(['1Q','2Q','3Q','4Q'],1)"
   ]
  },
  {
   "cell_type": "code",
   "execution_count": 3,
   "metadata": {},
   "outputs": [],
   "source": [
    "opp_list = []\n",
    "for i in range(0,len(data),1):\n",
    "    if i %2 == 0:\n",
    "        opp_list.append(data.iloc[i+1]['TEAM'])\n",
    "    else:\n",
    "        opp_list.append(data.iloc[i-1]['TEAM'])"
   ]
  },
  {
   "cell_type": "code",
   "execution_count": 4,
   "metadata": {},
   "outputs": [],
   "source": [
    "data.insert(3, 'OPPONENT', opp_list)"
   ]
  },
  {
   "cell_type": "code",
   "execution_count": 5,
   "metadata": {},
   "outputs": [],
   "source": [
    "sl = []\n",
    "for i in range(0, len(data), 1):\n",
    "    starting_lineup = []\n",
    "    starting_lineup.append(data.iloc[i]['POINT GUARD'])\n",
    "    starting_lineup.append(data.iloc[i]['SHOOTING GUARD'])\n",
    "    starting_lineup.append(data.iloc[i]['SHOOTING FORWARD'])\n",
    "    starting_lineup.append(data.iloc[i]['POWER FORWARD'])\n",
    "    starting_lineup.append(data.iloc[i]['CENTER'])\n",
    "    sl.append(str(starting_lineup))"
   ]
  },
  {
   "cell_type": "code",
   "execution_count": 6,
   "metadata": {},
   "outputs": [],
   "source": [
    "data.insert(15, 'STARTING LINEUP', sl)"
   ]
  },
  {
   "cell_type": "code",
   "execution_count": 7,
   "metadata": {},
   "outputs": [],
   "source": [
    "warriors_data = data[data['TEAM'] == 'Golden State']\n",
    "nets_data = data[data['TEAM'] == 'Brooklyn']\n",
    "clippers_data = data[data['TEAM'] == 'LA Clippers']\n",
    "lakers_data = data[data['TEAM'] == 'LA Lakers']\n",
    "bucks_data = data[data['TEAM'] == 'Milwaukee']\n",
    "celtics_data = data[data['TEAM'] == 'Boston']\n",
    "mavs_data = data[data['TEAM'] == 'Dallas']\n",
    "suns_data = data[data['TEAM'] == 'Phoenix']\n",
    "hornets_data = data[data['TEAM'] == 'Charlotte']\n",
    "cavs_data = data[data['TEAM'] == 'Cleveland']\n",
    "knicks_data = data[data['TEAM'] == 'New York']\n",
    "pacers_data = data[data['TEAM'] == 'Indiana']\n",
    "heat_data = data[data['TEAM'] == 'Miami']\n",
    "magic_data = data[data['TEAM'] == 'Orlando']\n",
    "wizards_data = data[data['TEAM'] == 'Washington']\n",
    "phil_data = data[data['TEAM'] == 'Philadelphia']\n",
    "pelicans_data = data[data['TEAM'] == 'New Orleans']\n",
    "raptors_data = data[data['TEAM'] == 'Toronto']\n",
    "hawks_data = data[data['TEAM'] == 'Atlanta']\n",
    "bulls_data = data[data['TEAM'] == 'Chicago']\n",
    "spurs_data = data[data['TEAM'] == 'San Antonio']\n",
    "grizzlies_data = data[data['TEAM'] == 'Memphis']\n",
    "pistons_data = data[data['TEAM'] == 'Detroit']\n",
    "timberwolves_data = data[data['TEAM'] == 'Minnesota']\n",
    "kings_data = data[data['TEAM'] == 'Sacramento']\n",
    "nuggets_data = data[data['TEAM'] == 'Denver']\n",
    "jazz_data = data[data['TEAM'] == 'Utah']\n",
    "tblazers_data = data[data['TEAM'] == 'Portland']\n",
    "okc_data = data[data['TEAM'] == 'Oklahoma City']\n",
    "rockets_data = data[data['TEAM'] == 'Houston']\n",
    "\n",
    "teams_data_list = [warriors_data, nets_data, clippers_data, lakers_data, bucks_data, rockets_data, okc_data, tblazers_data, jazz_data\n",
    "                  , nuggets_data, kings_data, timberwolves_data, pistons_data, grizzlies_data, spurs_data, bulls_data, hawks_data, \n",
    "                  raptors_data, pelicans_data, phil_data, wizards_data, magic_data, heat_data, suns_data, celtics_data, mavs_data,\n",
    "                   hornets_data, cavs_data, knicks_data, pacers_data]"
   ]
  },
  {
   "cell_type": "markdown",
   "metadata": {},
   "source": [
    "### FEATURE PROCESSING FOR THE LOGISTIC REGRESSION"
   ]
  },
  {
   "cell_type": "markdown",
   "metadata": {},
   "source": [
    "### WIN STREAK - WIN PERCENTAGE - WIN MOVING AVERAGES - VENUE"
   ]
  },
  {
   "cell_type": "code",
   "execution_count": 8,
   "metadata": {
    "scrolled": true
   },
   "outputs": [],
   "source": [
    "team_name_dataset = dict()\n",
    "for i in range(0,30,1):\n",
    "    team_name_dataset[teams_data_list[i].iloc[0]['TEAM']] = teams_data_list[i]"
   ]
  },
  {
   "cell_type": "code",
   "execution_count": 9,
   "metadata": {},
   "outputs": [],
   "source": [
    "def addWinStreak(team_data):\n",
    "    \n",
    "    results = team_data['FT OUTCOME'].map({'W':1, 'L':-1, 'T': 0})\n",
    "    streak = []\n",
    "    streak.append('NA')\n",
    "    streak.append(results.iloc[0])\n",
    "    l = len(results)\n",
    "    \n",
    "    for i in range(1,l-1,1):\n",
    "        if results.iloc[i] == results.iloc[i-1]:\n",
    "            streak.append(results.iloc[i] + streak[-1])\n",
    "        else:\n",
    "            streak.append(results.iloc[i])\n",
    "    \n",
    "    team_data.insert(4, 'STREAK', streak)\n",
    "\n",
    "for team_data in teams_data_list:\n",
    "    addWinStreak(team_data)"
   ]
  },
  {
   "cell_type": "code",
   "execution_count": 10,
   "metadata": {},
   "outputs": [
    {
     "name": "stderr",
     "output_type": "stream",
     "text": [
      "<ipython-input-10-6bc40aba32b2>:2: SettingWithCopyWarning: \n",
      "A value is trying to be set on a copy of a slice from a DataFrame.\n",
      "Try using .loc[row_indexer,col_indexer] = value instead\n",
      "\n",
      "See the caveats in the documentation: https://pandas.pydata.org/pandas-docs/stable/user_guide/indexing.html#returning-a-view-versus-a-copy\n",
      "  team_data['VENUE'] = team_data['VENUE'].map({'H':1, 'R':0})\n"
     ]
    }
   ],
   "source": [
    "def venueEncoder(team_data):\n",
    "    team_data['VENUE'] = team_data['VENUE'].map({'H':1, 'R':0})\n",
    "    \n",
    "for team_data in teams_data_list:\n",
    "    venueEncoder(team_data)"
   ]
  },
  {
   "cell_type": "code",
   "execution_count": 11,
   "metadata": {},
   "outputs": [],
   "source": [
    "def FTWinPer(team_data):\n",
    "    win_p = [0,0,0,0,0,0,0]\n",
    "    for i in range(7,len(team_data),1):\n",
    "        win_p.append(round(team_data.iloc[0:i]['FT OUTCOME'].value_counts(normalize = True)['W'],3))\n",
    "    team_data.insert(5,'FT WinPer',win_p)\n",
    "\n",
    "for team_data in teams_data_list:\n",
    "    FTWinPer(team_data)"
   ]
  },
  {
   "cell_type": "code",
   "execution_count": 12,
   "metadata": {},
   "outputs": [],
   "source": [
    "def OPPFTWinPer(team_data):\n",
    "    win_p = [0,0,0,0,0,0,0]\n",
    "    for i in range(7,len(team_data),1):\n",
    "        oppname = team_data.iloc[i]['OPPONENT']\n",
    "        win_p.append(round(data[data['TEAM'] == oppname].iloc[0:i]['FT OUTCOME'].value_counts(normalize = True)['W'],3))\n",
    "    team_data.insert(6,'OPP FT WinPer',win_p)\n",
    "\n",
    "for team_data in teams_data_list:\n",
    "    OPPFTWinPer(team_data)"
   ]
  },
  {
   "cell_type": "code",
   "execution_count": 13,
   "metadata": {},
   "outputs": [],
   "source": [
    "def LastNFTWper(team_data):\n",
    "    N=7\n",
    "    htwinperav = list(np.zeros(N))\n",
    "    for i in range(N, len(team_data),1):\n",
    "        try:\n",
    "            wp = team_data.iloc[i-N:i]['FT OUTCOME'].value_counts(normalize=True)['W']\n",
    "            wp = round(wp,3)\n",
    "        except Exception as e:\n",
    "            wp = '0'\n",
    "        htwinperav.append(wp)\n",
    "    team_data.insert(7, 'L7 FT W %', htwinperav)"
   ]
  },
  {
   "cell_type": "code",
   "execution_count": 14,
   "metadata": {},
   "outputs": [],
   "source": [
    "def LastMoppFTWper(team_data):\n",
    "    N=7\n",
    "    htwinperav = list(np.zeros(N))\n",
    "    for i in range(N, len(team_data),1):\n",
    "        oppname = team_data.iloc[i]['OPPONENT']\n",
    "        try:\n",
    "            wp = data[data['TEAM'] == oppname].iloc[i-N:i]['FT OUTCOME'].value_counts(normalize=True)['W']\n",
    "            wp = round(wp,3)\n",
    "        except Exception as e:\n",
    "            wp = '0'\n",
    "        htwinperav.append(wp)\n",
    "    team_data.insert(8, 'OPP L7 FT W %', htwinperav)"
   ]
  },
  {
   "cell_type": "code",
   "execution_count": 15,
   "metadata": {},
   "outputs": [],
   "source": [
    "for team_data in teams_data_list:\n",
    "    LastNFTWper(team_data)\n",
    "    LastMoppFTWper(team_data)"
   ]
  },
  {
   "cell_type": "code",
   "execution_count": 16,
   "metadata": {},
   "outputs": [],
   "source": [
    "def LastM_FT_WinP(team_data):\n",
    "    M=15\n",
    "    wp = list(np.zeros(M))\n",
    "    for i in range(M,len(team_data),1):\n",
    "        try:\n",
    "            a = team_data.iloc[i-M:i]['FT OUTCOME'].value_counts(normalize = True)['W']\n",
    "            a = round(a,3)\n",
    "            wp.append(a)\n",
    "        except Exception as e:\n",
    "            wp.append('0')\n",
    "    team_data.insert(9, 'L15 FT W %', wp)\n",
    "\n",
    "for team_data in teams_data_list:\n",
    "    LastM_FT_WinP(team_data)"
   ]
  },
  {
   "cell_type": "code",
   "execution_count": 17,
   "metadata": {},
   "outputs": [],
   "source": [
    "def Opp_LastM_FT_WinP(team_data):\n",
    "    N=15\n",
    "    htwinperav = list(np.zeros(N))\n",
    "    for i in range(N, len(team_data),1):\n",
    "        oppname = team_data.iloc[i]['OPPONENT']\n",
    "        try:\n",
    "            wp = data[data['TEAM'] == oppname].iloc[i-N:i]['FT OUTCOME'].value_counts(normalize=True)['W']\n",
    "            wp = round(wp,3)\n",
    "        except Exception as e:\n",
    "            wp = '0'\n",
    "        htwinperav.append(wp)\n",
    "    team_data.insert(10, 'OPP L15 FT W %', htwinperav)\n",
    "    \n",
    "for team_data in teams_data_list:\n",
    "    Opp_LastM_FT_WinP(team_data)"
   ]
  },
  {
   "cell_type": "markdown",
   "metadata": {},
   "source": [
    "### THE IMPACT PLAYER(S) FOR EACH TEAM"
   ]
  },
  {
   "cell_type": "code",
   "execution_count": 18,
   "metadata": {
    "scrolled": true
   },
   "outputs": [],
   "source": [
    "encoder = []\n",
    "for i in range(0, len(nets_data),1):\n",
    "    if 'James Harden' in nets_data['STARTING LINEUP'].iloc[i] or 'Kevin Durant' in nets_data['STARTING LINEUP'].iloc[i] or 'Kyrie Irving' in nets_data['STARTING LINEUP'].iloc[i]:\n",
    "        encoder.append(1)\n",
    "    else:\n",
    "        encoder.append(0)\n",
    "nets_data.insert(16,'IMPACT PLAYER',encoder)"
   ]
  },
  {
   "cell_type": "code",
   "execution_count": 19,
   "metadata": {},
   "outputs": [],
   "source": [
    "encoder = []\n",
    "for i in range(0, len(warriors_data),1):\n",
    "    if 'Stephen Curry' in warriors_data['STARTING LINEUP'].iloc[i]:\n",
    "        encoder.append(1)\n",
    "    else:\n",
    "        encoder.append(0)\n",
    "warriors_data.insert(16,'IMPACT PLAYER',encoder)"
   ]
  },
  {
   "cell_type": "code",
   "execution_count": 20,
   "metadata": {},
   "outputs": [],
   "source": [
    "encoder = []\n",
    "for i in range(0, len(clippers_data),1):\n",
    "    if 'Kawhi Leonard' in clippers_data['STARTING LINEUP'].iloc[i] and 'Paul George' in clippers_data['STARTING LINEUP'].iloc[i]:\n",
    "        encoder.append(1)\n",
    "    else:\n",
    "        encoder.append(0)\n",
    "clippers_data.insert(16,'IMPACT PLAYER',encoder)"
   ]
  },
  {
   "cell_type": "code",
   "execution_count": 21,
   "metadata": {},
   "outputs": [],
   "source": [
    "encoder = []\n",
    "for i in range(0, len(lakers_data),1):\n",
    "    if 'Lebron James' in lakers_data['STARTING LINEUP'].iloc[i]:\n",
    "        encoder.append(1)\n",
    "    else:\n",
    "        encoder.append(0)\n",
    "lakers_data.insert(16,'IMPACT PLAYER',encoder)"
   ]
  },
  {
   "cell_type": "code",
   "execution_count": 22,
   "metadata": {},
   "outputs": [],
   "source": [
    "encoder = []\n",
    "for i in range(0, len(bucks_data),1):\n",
    "    if 'Giannis Antetokounmpo' in bucks_data['STARTING LINEUP'].iloc[i] or 'Khris Middleton' in bucks_data.iloc[i]['STARTING LINEUP']:\n",
    "        encoder.append(1)\n",
    "    else:\n",
    "        encoder.append(0)\n",
    "bucks_data.insert(16,'IMPACT PLAYER',encoder)"
   ]
  },
  {
   "cell_type": "code",
   "execution_count": 23,
   "metadata": {},
   "outputs": [],
   "source": [
    "encoder = []\n",
    "for i in range(0, len(rockets_data),1):\n",
    "    if 'John Wall' in rockets_data['STARTING LINEUP'].iloc[i]:\n",
    "        encoder.append(1)\n",
    "    else:\n",
    "        encoder.append(0)\n",
    "rockets_data.insert(16,'IMPACT PLAYER',encoder)"
   ]
  },
  {
   "cell_type": "code",
   "execution_count": 24,
   "metadata": {},
   "outputs": [],
   "source": [
    "encoder = []\n",
    "for i in range(0, len(okc_data),1):\n",
    "    if 'Shai Gilgeous-Alexander' in okc_data['STARTING LINEUP'].iloc[i]:\n",
    "        encoder.append(1)\n",
    "    else:\n",
    "        encoder.append(0)\n",
    "okc_data.insert(16,'IMPACT PLAYER',encoder)"
   ]
  },
  {
   "cell_type": "code",
   "execution_count": 25,
   "metadata": {},
   "outputs": [],
   "source": [
    "encoder = []\n",
    "for i in range(0, len(tblazers_data),1):\n",
    "    if 'Damian Lillard' in tblazers_data['STARTING LINEUP'].iloc[i]:\n",
    "        encoder.append(1)\n",
    "    else:\n",
    "        encoder.append(0)\n",
    "tblazers_data.insert(16,'IMPACT PLAYER',encoder)"
   ]
  },
  {
   "cell_type": "code",
   "execution_count": 26,
   "metadata": {},
   "outputs": [],
   "source": [
    "encoder = []\n",
    "for i in range(0, len(jazz_data),1):\n",
    "    if 'Donovan Mitchell' in jazz_data['STARTING LINEUP'].iloc[i]:\n",
    "        encoder.append(1)\n",
    "    else:\n",
    "        encoder.append(0)\n",
    "jazz_data.insert(16,'IMPACT PLAYER',encoder)"
   ]
  },
  {
   "cell_type": "code",
   "execution_count": 27,
   "metadata": {},
   "outputs": [],
   "source": [
    "encoder = []\n",
    "for i in range(0, len(nuggets_data),1):\n",
    "    if 'Nikola Jokic' in nuggets_data['STARTING LINEUP'].iloc[i]:\n",
    "        encoder.append(1)\n",
    "    else:\n",
    "        encoder.append(0)\n",
    "nuggets_data.insert(16,'IMPACT PLAYER',encoder)"
   ]
  },
  {
   "cell_type": "code",
   "execution_count": 28,
   "metadata": {},
   "outputs": [],
   "source": [
    "encoder = []\n",
    "for i in range(0, len(kings_data),1):\n",
    "    if \"De'Aaron Fox\" in kings_data['STARTING LINEUP'].iloc[i]:\n",
    "        encoder.append(1)\n",
    "    else:\n",
    "        encoder.append(0)\n",
    "kings_data.insert(16,'IMPACT PLAYER',encoder)"
   ]
  },
  {
   "cell_type": "code",
   "execution_count": 29,
   "metadata": {},
   "outputs": [],
   "source": [
    "encoder = []\n",
    "for i in range(0, len(timberwolves_data),1):\n",
    "    if 'Karl-Anthony Towns' in timberwolves_data['STARTING LINEUP'].iloc[i]:\n",
    "        encoder.append(1)\n",
    "    else:\n",
    "        encoder.append(0)\n",
    "timberwolves_data.insert(16,'IMPACT PLAYER',encoder)"
   ]
  },
  {
   "cell_type": "code",
   "execution_count": 30,
   "metadata": {},
   "outputs": [],
   "source": [
    "encoder = []\n",
    "for i in range(0, len(pistons_data),1):\n",
    "    if 'Jerami Grant' in pistons_data['STARTING LINEUP'].iloc[i]:\n",
    "        encoder.append(1)\n",
    "    else:\n",
    "        encoder.append(0)\n",
    "pistons_data.insert(16,'IMPACT PLAYER',encoder)"
   ]
  },
  {
   "cell_type": "code",
   "execution_count": 31,
   "metadata": {},
   "outputs": [],
   "source": [
    "encoder = []\n",
    "for i in range(0, len(grizzlies_data),1):\n",
    "    if 'Ja Morant' in grizzlies_data['STARTING LINEUP'].iloc[i]:\n",
    "        encoder.append(1)\n",
    "    else:\n",
    "        encoder.append(0)\n",
    "grizzlies_data.insert(16,'IMPACT PLAYER',encoder)"
   ]
  },
  {
   "cell_type": "code",
   "execution_count": 32,
   "metadata": {},
   "outputs": [],
   "source": [
    "encoder = []\n",
    "for i in range(0, len(spurs_data),1):\n",
    "    if 'DeMar DeRozan' in spurs_data['STARTING LINEUP'].iloc[i]:\n",
    "        encoder.append(1)\n",
    "    else:\n",
    "        encoder.append(0)\n",
    "spurs_data.insert(16,'IMPACT PLAYER',encoder)"
   ]
  },
  {
   "cell_type": "code",
   "execution_count": 33,
   "metadata": {},
   "outputs": [],
   "source": [
    "encoder = []\n",
    "for i in range(0, len(bulls_data),1):\n",
    "    if 'Zach LaVine' in bulls_data['STARTING LINEUP'].iloc[i]:\n",
    "        encoder.append(1)\n",
    "    else:\n",
    "        encoder.append(0)\n",
    "bulls_data.insert(16,'IMPACT PLAYER',encoder)"
   ]
  },
  {
   "cell_type": "code",
   "execution_count": 34,
   "metadata": {},
   "outputs": [],
   "source": [
    "encoder = []\n",
    "for i in range(0, len(hawks_data),1):\n",
    "    if 'Trae Young' in hawks_data['STARTING LINEUP'].iloc[i]:\n",
    "        encoder.append(1)\n",
    "    else:\n",
    "        encoder.append(0)\n",
    "hawks_data.insert(16,'IMPACT PLAYER',encoder)"
   ]
  },
  {
   "cell_type": "code",
   "execution_count": 35,
   "metadata": {},
   "outputs": [
    {
     "name": "stdout",
     "output_type": "stream",
     "text": [
      "22\n",
      "52\n",
      "0.4230769230769231\n"
     ]
    }
   ],
   "source": [
    "wl = []\n",
    "for i in range(0,len(raptors_data),1):\n",
    "    if 'Fred VanVleet' in raptors_data.iloc[i]['STARTING LINEUP']:\n",
    "        wl.append(raptors_data['FT OUTCOME'].map({'W': 1, 'L':0}).iloc[i])\n",
    "    else:\n",
    "        pass\n",
    "    \n",
    "print(sum(wl))\n",
    "print(len(wl))\n",
    "print(sum(wl)/len(wl))"
   ]
  },
  {
   "cell_type": "code",
   "execution_count": 36,
   "metadata": {},
   "outputs": [],
   "source": [
    "encoder = []\n",
    "for i in range(0, len(raptors_data),1):\n",
    "    if 'Fred VanVleet' in raptors_data['STARTING LINEUP'].iloc[i]:\n",
    "        encoder.append(1)\n",
    "    else:\n",
    "        encoder.append(0)\n",
    "raptors_data.insert(16,'IMPACT PLAYER',encoder)"
   ]
  },
  {
   "cell_type": "code",
   "execution_count": 37,
   "metadata": {},
   "outputs": [
    {
     "data": {
      "text/plain": [
       "L    0.52459\n",
       "W    0.47541\n",
       "Name: FT OUTCOME, dtype: float64"
      ]
     },
     "execution_count": 37,
     "metadata": {},
     "output_type": "execute_result"
    }
   ],
   "source": [
    "pelicans_data[pelicans_data['POWER FORWARD'] == 'Zion Williamson']['FT OUTCOME'].value_counts(normalize=True)"
   ]
  },
  {
   "cell_type": "code",
   "execution_count": 38,
   "metadata": {},
   "outputs": [
    {
     "data": {
      "text/plain": [
       "L    0.508475\n",
       "W    0.491525\n",
       "Name: FT OUTCOME, dtype: float64"
      ]
     },
     "execution_count": 38,
     "metadata": {},
     "output_type": "execute_result"
    }
   ],
   "source": [
    "pelicans_data[pelicans_data['SHOOTING FORWARD'] == 'Brandon Ingram']['FT OUTCOME'].value_counts(normalize=True)"
   ]
  },
  {
   "cell_type": "code",
   "execution_count": 39,
   "metadata": {},
   "outputs": [],
   "source": [
    "encoder = []\n",
    "for i in range(0, len(pelicans_data),1):\n",
    "    if 'Brandon Ingram' in pelicans_data['STARTING LINEUP'].iloc[i]:\n",
    "        encoder.append(1)\n",
    "    else:\n",
    "        encoder.append(0)\n",
    "pelicans_data.insert(16,'IMPACT PLAYER',encoder)"
   ]
  },
  {
   "cell_type": "code",
   "execution_count": 40,
   "metadata": {},
   "outputs": [],
   "source": [
    "encoder = []\n",
    "for i in range(0, len(phil_data),1):\n",
    "    if 'Joel Embiid' in phil_data['STARTING LINEUP'].iloc[i]:\n",
    "        encoder.append(1)\n",
    "    else:\n",
    "        encoder.append(0)\n",
    "phil_data.insert(16,'IMPACT PLAYER',encoder)"
   ]
  },
  {
   "cell_type": "code",
   "execution_count": 41,
   "metadata": {},
   "outputs": [],
   "source": [
    "encoder = []\n",
    "for i in range(0, len(magic_data),1):\n",
    "    if 'Nikola Vucevic' in magic_data['STARTING LINEUP'].iloc[i]:\n",
    "        encoder.append(1)\n",
    "    else:\n",
    "        encoder.append(0)\n",
    "magic_data.insert(16,'IMPACT PLAYER',encoder)"
   ]
  },
  {
   "cell_type": "code",
   "execution_count": 42,
   "metadata": {},
   "outputs": [],
   "source": [
    "encoder = []\n",
    "for i in range(0, len(heat_data),1):\n",
    "    if 'Jimmy Butler' in heat_data['STARTING LINEUP'].iloc[i]:\n",
    "        encoder.append(1)\n",
    "    else:\n",
    "        encoder.append(0)\n",
    "heat_data.insert(16,'IMPACT PLAYER',encoder)"
   ]
  },
  {
   "cell_type": "code",
   "execution_count": 43,
   "metadata": {},
   "outputs": [],
   "source": [
    "encoder = []\n",
    "for i in range(0, len(suns_data),1):\n",
    "    if 'Devin Booker' in suns_data['STARTING LINEUP'].iloc[i]:\n",
    "        encoder.append(1)\n",
    "    else:\n",
    "        encoder.append(0)\n",
    "suns_data.insert(16,'IMPACT PLAYER',encoder)"
   ]
  },
  {
   "cell_type": "code",
   "execution_count": 44,
   "metadata": {},
   "outputs": [],
   "source": [
    "encoder = []\n",
    "for i in range(0, len(celtics_data),1):\n",
    "    if 'Jayson Tatum' in celtics_data['STARTING LINEUP'].iloc[i]:\n",
    "        encoder.append(1)\n",
    "    else:\n",
    "        encoder.append(0)\n",
    "celtics_data.insert(16,'IMPACT PLAYER',encoder)"
   ]
  },
  {
   "cell_type": "code",
   "execution_count": 45,
   "metadata": {},
   "outputs": [],
   "source": [
    "encoder = []\n",
    "for i in range(0, len(mavs_data),1):\n",
    "    if 'Luka Doncic' in mavs_data['STARTING LINEUP'].iloc[i]:\n",
    "        encoder.append(1)\n",
    "    else:\n",
    "        encoder.append(0)\n",
    "mavs_data.insert(16,'IMPACT PLAYER',encoder)"
   ]
  },
  {
   "cell_type": "code",
   "execution_count": 46,
   "metadata": {},
   "outputs": [],
   "source": [
    "encoder = []\n",
    "for i in range(0, len(hornets_data),1):\n",
    "    if 'Gordon Hayward' in hornets_data['STARTING LINEUP'].iloc[i]:\n",
    "        encoder.append(1)\n",
    "    else:\n",
    "        encoder.append(0)\n",
    "hornets_data.insert(16,'IMPACT PLAYER',encoder)"
   ]
  },
  {
   "cell_type": "code",
   "execution_count": 47,
   "metadata": {},
   "outputs": [],
   "source": [
    "encoder = []\n",
    "for i in range(0, len(cavs_data),1):\n",
    "    if 'Collin Sexton' in cavs_data['STARTING LINEUP'].iloc[i]:\n",
    "        encoder.append(1)\n",
    "    else:\n",
    "        encoder.append(0)\n",
    "cavs_data.insert(16,'IMPACT PLAYER',encoder)"
   ]
  },
  {
   "cell_type": "code",
   "execution_count": 48,
   "metadata": {},
   "outputs": [],
   "source": [
    "encoder = []\n",
    "for i in range(0, len(knicks_data),1):\n",
    "    if 'Julius Randle' in knicks_data['STARTING LINEUP'].iloc[i]:\n",
    "        encoder.append(1)\n",
    "    else:\n",
    "        encoder.append(0)\n",
    "knicks_data.insert(16,'IMPACT PLAYER',encoder)"
   ]
  },
  {
   "cell_type": "code",
   "execution_count": 49,
   "metadata": {},
   "outputs": [],
   "source": [
    "encoder = []\n",
    "for i in range(0, len(wizards_data),1):\n",
    "    if 'Bradley Beal' in wizards_data['STARTING LINEUP'].iloc[i]:\n",
    "        encoder.append(1)\n",
    "    else:\n",
    "        encoder.append(0)\n",
    "wizards_data.insert(16,'IMPACT PLAYER',encoder)"
   ]
  },
  {
   "cell_type": "code",
   "execution_count": 50,
   "metadata": {},
   "outputs": [],
   "source": [
    "encoder = []\n",
    "for i in range(0, len(pacers_data),1):\n",
    "    if 'Malcolm Brogdon' in pacers_data['STARTING LINEUP'].iloc[i] and 'Caris Levert' in pacers_data['STARTING LINEUP'].iloc[i]:\n",
    "        encoder.append(1)\n",
    "    else:\n",
    "        encoder.append(0)\n",
    "pacers_data.insert(16,'IMPACT PLAYER',encoder)"
   ]
  },
  {
   "cell_type": "markdown",
   "metadata": {},
   "source": [
    "### OPPONENT IMPACT PLAYER"
   ]
  },
  {
   "cell_type": "code",
   "execution_count": 51,
   "metadata": {
    "scrolled": false
   },
   "outputs": [],
   "source": [
    "def OppImpactPlayer(team_data):\n",
    "    OppImpPlayerList = []\n",
    "    for i in range(0,len(team_data),1):\n",
    "        date = team_data.iloc[i]['DATE']\n",
    "        opp = team_data.iloc[i]['OPPONENT']\n",
    "        OppImpPlayerList.append(int(team_name_dataset[opp][team_name_dataset[opp]['DATE'] == date]['IMPACT PLAYER']))\n",
    "    team_data.insert(17, 'OPP IMPACT PLAYER', OppImpPlayerList)"
   ]
  },
  {
   "cell_type": "code",
   "execution_count": 52,
   "metadata": {},
   "outputs": [],
   "source": [
    "for team_data in teams_data_list:\n",
    "    OppImpactPlayer(team_data)"
   ]
  },
  {
   "cell_type": "markdown",
   "metadata": {},
   "source": [
    "### FEATURE SELECTION"
   ]
  },
  {
   "cell_type": "code",
   "execution_count": 54,
   "metadata": {
    "scrolled": true
   },
   "outputs": [
    {
     "data": {
      "text/plain": [
       "['STREAK',\n",
       " 'FT WinPer',\n",
       " 'OPP FT WinPer',\n",
       " 'L7 FT W %',\n",
       " 'OPP L7 FT W %',\n",
       " 'L15 FT W %',\n",
       " 'OPP L15 FT W %',\n",
       " 'IMPACT PLAYER',\n",
       " 'OPP IMPACT PLAYER',\n",
       " 'VENUE']"
      ]
     },
     "execution_count": 54,
     "metadata": {},
     "output_type": "execute_result"
    }
   ],
   "source": [
    "output = nets_data.columns[13]\n",
    "var1 = nets_data.columns[2] \n",
    "var2 = list(nets_data.columns[4:11])\n",
    "var3 = list(nets_data.columns[16:18])\n",
    "features = var2 + var3\n",
    "features.append(var1)\n",
    "features"
   ]
  },
  {
   "cell_type": "code",
   "execution_count": 55,
   "metadata": {},
   "outputs": [],
   "source": [
    "def LogReg(team_data):\n",
    "    \n",
    "    N = 7\n",
    "    x_train = team_data.iloc[10:-N][features].values\n",
    "    x_test = team_data.iloc[-N:][features].values\n",
    "    y_train = team_data.iloc[10:-N][output].map({'W':1, 'L':-1, 'T':-1}).values\n",
    "    y_test = team_data.iloc[-N:][output].map({'W':1, 'L':-1, 'T':-1}).values\n",
    "    \n",
    "    \n",
    "    reg = LogisticRegression()\n",
    "    reg.fit(x_train, y_train)\n",
    "    y_pred = reg.predict(x_test)\n",
    "\n",
    "    \n",
    "    p = f_regression(x_train, y_train)[1]\n",
    "    pvalues.append(team_data.iloc[0]['TEAM'])\n",
    "    pvalues.append(str(p.round(3)))"
   ]
  },
  {
   "cell_type": "code",
   "execution_count": 56,
   "metadata": {
    "scrolled": true
   },
   "outputs": [
    {
     "name": "stderr",
     "output_type": "stream",
     "text": [
      "C:\\Users\\Kaan Aytekin\\anaconda3\\lib\\site-packages\\sklearn\\feature_selection\\_univariate_selection.py:302: RuntimeWarning: invalid value encountered in true_divide\n",
      "  corr /= X_norms\n",
      "C:\\Users\\Kaan Aytekin\\anaconda3\\lib\\site-packages\\scipy\\stats\\_distn_infrastructure.py:1932: RuntimeWarning: invalid value encountered in less_equal\n",
      "  cond2 = cond0 & (x <= _a)\n",
      "C:\\Users\\Kaan Aytekin\\anaconda3\\lib\\site-packages\\sklearn\\feature_selection\\_univariate_selection.py:302: RuntimeWarning: divide by zero encountered in true_divide\n",
      "  corr /= X_norms\n",
      "C:\\Users\\Kaan Aytekin\\anaconda3\\lib\\site-packages\\sklearn\\feature_selection\\_univariate_selection.py:307: RuntimeWarning: invalid value encountered in true_divide\n",
      "  F = corr ** 2 / (1 - corr ** 2) * degrees_of_freedom\n",
      "C:\\Users\\Kaan Aytekin\\anaconda3\\lib\\site-packages\\scipy\\stats\\_distn_infrastructure.py:1932: RuntimeWarning: invalid value encountered in less_equal\n",
      "  cond2 = cond0 & (x <= _a)\n",
      "C:\\Users\\Kaan Aytekin\\anaconda3\\lib\\site-packages\\sklearn\\feature_selection\\_univariate_selection.py:302: RuntimeWarning: invalid value encountered in true_divide\n",
      "  corr /= X_norms\n",
      "C:\\Users\\Kaan Aytekin\\anaconda3\\lib\\site-packages\\scipy\\stats\\_distn_infrastructure.py:1932: RuntimeWarning: invalid value encountered in less_equal\n",
      "  cond2 = cond0 & (x <= _a)\n"
     ]
    }
   ],
   "source": [
    "pvalues = []\n",
    "for team_data in teams_data_list:\n",
    "    LogReg(team_data)"
   ]
  },
  {
   "cell_type": "markdown",
   "metadata": {},
   "source": [
    "### P VALUE TABLE"
   ]
  },
  {
   "cell_type": "code",
   "execution_count": 57,
   "metadata": {
    "scrolled": true
   },
   "outputs": [],
   "source": [
    "df = np.array(pvalues).reshape(30,2)\n",
    "pv_dict = dict()\n",
    "for i in range(0,30,1):\n",
    "    pv = df[i][1][1:-1].split()\n",
    "    pv_dict[df[i][0]] = pv\n",
    "pv_df = pd.DataFrame(data = pv_dict, index=[features])\n",
    "pv_df.reset_index(inplace=True)\n",
    "pv_df = pv_df.rename(columns = {'level_0':'Variables'})\n",
    "pv_df.set_index('Variables', inplace=True)"
   ]
  },
  {
   "cell_type": "code",
   "execution_count": 58,
   "metadata": {},
   "outputs": [],
   "source": [
    "pv_df = pv_df.replace('nan', 0.3) # Since some of the impact players never missed a game, the p-value for those teams ended up being nan, so I decided to use 0.3 which is close to the mean p-value for impact player variable "
   ]
  },
  {
   "cell_type": "code",
   "execution_count": 154,
   "metadata": {
    "scrolled": true
   },
   "outputs": [
    {
     "name": "stdout",
     "output_type": "stream",
     "text": [
      "                  Golden State Brooklyn LA Clippers LA Lakers Milwaukee  \\\n",
      "Variables                                                                 \n",
      "STREAK                   0.173    0.505       0.896     0.811     0.462   \n",
      "FT WinPer                0.015    0.438       0.188     0.261     0.042   \n",
      "OPP FT WinPer            0.057    0.306        0.01     0.018     0.306   \n",
      "L7 FT W %                0.254    0.399       0.768     0.788     0.552   \n",
      "OPP L7 FT W %            0.073    0.382       0.006     0.001      0.29   \n",
      "L15 FT W %               0.885    0.628       0.113     0.775     0.485   \n",
      "OPP L15 FT W %           0.046    0.479       0.005     0.005     0.839   \n",
      "IMPACT PLAYER            0.025    0.136       0.221       0.3     0.058   \n",
      "OPP IMPACT PLAYER        0.313    0.235       0.136     0.349     0.791   \n",
      "VENUE                    0.083    0.078       0.157     0.885     0.803   \n",
      "\n",
      "                  Houston Oklahoma City Portland   Utah Denver Sacramento  \\\n",
      "Variables                                                                   \n",
      "STREAK               0.18         0.769    0.896  0.901  0.378      0.124   \n",
      "FT WinPer           0.351         0.898    0.058  0.144  0.981      0.139   \n",
      "OPP FT WinPer       0.047         0.039    0.001  0.248   0.58      0.191   \n",
      "L7 FT W %           0.045         0.309    0.574  0.628  0.298       0.46   \n",
      "OPP L7 FT W %       0.018         0.028       0.  0.072   0.47      0.045   \n",
      "L15 FT W %           0.55         0.244    0.549  0.147  0.777      0.324   \n",
      "OPP L15 FT W %      0.041         0.201    0.007  0.021  0.809      0.664   \n",
      "IMPACT PLAYER       0.238         0.016    0.802  0.488    0.3       0.45   \n",
      "OPP IMPACT PLAYER   0.404         0.389    0.507  0.071  0.235      0.254   \n",
      "VENUE               0.478         0.743    0.359  0.001  0.126      0.854   \n",
      "\n",
      "                  Minnesota Detroit Memphis San Antonio Chicago Atlanta  \\\n",
      "Variables                                                                 \n",
      "STREAK                0.322   0.004   0.592       0.707   0.712   0.992   \n",
      "FT WinPer             0.547   0.112   0.007       0.361   0.072   0.522   \n",
      "OPP FT WinPer         0.115   0.079   0.005       0.004   0.001   0.005   \n",
      "L7 FT W %             0.596   0.014   0.036       0.665   0.167   0.846   \n",
      "OPP L7 FT W %         0.064   0.023   0.175       0.772   0.004    0.16   \n",
      "L15 FT W %            0.406   0.638   0.003       0.579   0.217   0.908   \n",
      "OPP L15 FT W %        0.258   0.244   0.004       0.123   0.009   0.063   \n",
      "IMPACT PLAYER         0.292   0.841   0.348        0.21   0.602   0.948   \n",
      "OPP IMPACT PLAYER     0.501   0.374   0.817       0.708   0.433   0.001   \n",
      "VENUE                 0.343   0.134   0.708       0.364   0.914   0.069   \n",
      "\n",
      "                  Toronto New Orleans Philadelphia Washington Orlando  Miami  \\\n",
      "Variables                                                                      \n",
      "STREAK              0.533        0.19        0.677      0.551   0.556  0.265   \n",
      "FT WinPer           0.031       0.046        0.005      0.535   0.133  0.921   \n",
      "OPP FT WinPer       0.432       0.505         0.07       0.67   0.068  0.098   \n",
      "L7 FT W %           0.896       0.153        0.128      0.116   0.251  0.997   \n",
      "OPP L7 FT W %       0.076       0.127        0.013      0.227    0.12   0.01   \n",
      "L15 FT W %           0.31       0.948        0.734      0.289   0.269  0.681   \n",
      "OPP L15 FT W %      0.021       0.829        0.527       0.86   0.627  0.178   \n",
      "IMPACT PLAYER       0.277       0.238        0.135      0.018   0.868  0.142   \n",
      "OPP IMPACT PLAYER   0.312        0.05        0.002      0.006   0.201  0.424   \n",
      "VENUE               0.333       0.333        0.154      0.235   0.957  0.908   \n",
      "\n",
      "                  Phoenix Boston Dallas Charlotte Cleveland New York Indiana  \n",
      "Variables                                                                     \n",
      "STREAK              0.363  0.486  0.627     0.174     0.591    0.605    0.09  \n",
      "FT WinPer              1.  0.112  0.599     0.096     0.822    0.831   0.475  \n",
      "OPP FT WinPer       0.329  0.627  0.527        0.     0.025    0.003      0.  \n",
      "L7 FT W %           0.912  0.373  0.748     0.047     0.558    0.988   0.029  \n",
      "OPP L7 FT W %       0.587  0.764  0.896        0.     0.002    0.003   0.015  \n",
      "L15 FT W %          0.054    0.8  0.793     0.518     0.014    0.371   0.241  \n",
      "OPP L15 FT W %       0.02  0.636  0.569     0.117     0.001    0.089   0.006  \n",
      "IMPACT PLAYER       0.298  0.253  0.448     0.207     0.945    0.402     0.3  \n",
      "OPP IMPACT PLAYER   0.279  0.054  0.947     0.126     0.552    0.076   0.661  \n",
      "VENUE               0.914  0.079  0.473     0.356     0.362    0.043   0.058  \n"
     ]
    }
   ],
   "source": [
    "print(pv_df)"
   ]
  },
  {
   "cell_type": "code",
   "execution_count": 151,
   "metadata": {},
   "outputs": [],
   "source": [
    "significant_var = dict()\n",
    "sig_level = 0.05\n",
    "for team_data in teams_data_list:\n",
    "    var = []\n",
    "    tn = team_data.iloc[0]['TEAM']\n",
    "    for i in range(0,8,1):\n",
    "        pv = pv_df[tn].values[i]\n",
    "        if float(pv) <= sig_level:\n",
    "            var.append(pv_df.index[i])\n",
    "        else:\n",
    "            pass\n",
    "    significant_var[tn] = var"
   ]
  },
  {
   "cell_type": "code",
   "execution_count": 164,
   "metadata": {},
   "outputs": [],
   "source": [
    "features = ['FT WinPer', 'OPP FT WinPer','OPP L7 FT W %', 'IMPACT PLAYER', 'OPP IMPACT PLAYER']"
   ]
  },
  {
   "cell_type": "code",
   "execution_count": 182,
   "metadata": {},
   "outputs": [],
   "source": [
    "def Model(team_data):\n",
    "    \n",
    "    num = len(features)\n",
    "    \n",
    "    x = team_data.iloc[15:-2][features].values\n",
    "    y = team_data.iloc[15:-2][output].map({'W':1, 'L':-1, 'T':-1}).values\n",
    "    \n",
    "    x_train, x_test, y_train, y_test = train_test_split(x, y, test_size = 0.1, random_state = 5)\n",
    "    \n",
    "    x_train = np.array(x_train).reshape(len(x_train), num)\n",
    "    y_train = np.array(y_train).reshape(len(y_train), 1)\n",
    "    x_test = np.array(x_test).reshape(len(x_test),num)\n",
    "    y_test = np.array(y_test).reshape(len(y_test),1)\n",
    "    \n",
    "    reg = LogisticRegression()\n",
    "    reg.fit(x_train, y_train)\n",
    "    y_pred = reg.predict(x_test)\n",
    "    y_pred = np.array(y_pred).reshape(len(y_test),1)\n",
    "    \n",
    "    a = accuracy_score(y_pred, y_test)\n",
    "    model_sum[team_data.iloc[0]['TEAM']] = round(a,3)\n",
    "    model_accuracy.append(a)"
   ]
  },
  {
   "cell_type": "code",
   "execution_count": 183,
   "metadata": {
    "scrolled": true
   },
   "outputs": [
    {
     "name": "stdout",
     "output_type": "stream",
     "text": [
      "{'Golden State': 0.833, 'Brooklyn': 0.5, 'LA Clippers': 0.5, 'LA Lakers': 0.667, 'Milwaukee': 0.833, 'Houston': 0.667, 'Oklahoma City': 0.333, 'Portland': 0.833, 'Utah': 0.667, 'Denver': 0.833, 'Sacramento': 0.333, 'Minnesota': 0.5, 'Detroit': 0.833, 'Memphis': 0.667, 'San Antonio': 1.0, 'Chicago': 0.667, 'Atlanta': 0.5, 'Toronto': 1.0, 'New Orleans': 0.5, 'Philadelphia': 0.667, 'Washington': 0.5, 'Orlando': 0.667, 'Miami': 0.5, 'Phoenix': 0.833, 'Boston': 0.333, 'Dallas': 0.833, 'Charlotte': 1.0, 'Cleveland': 0.667, 'New York': 0.833, 'Indiana': 0.833, 'Overall Accuracy': 0.6777777777777778}\n"
     ]
    }
   ],
   "source": [
    "model_sum = dict()\n",
    "model_accuracy = []\n",
    "for team_data in teams_data_list:\n",
    "    Model(team_data)\n",
    "\n",
    "model_sum['Overall Accuracy'] = mean(model_accuracy)\n",
    "print(model_sum)"
   ]
  },
  {
   "cell_type": "code",
   "execution_count": 184,
   "metadata": {},
   "outputs": [],
   "source": [
    "modelLast7_sum = dict()\n",
    "modelLast7_accuracy = []\n",
    "def ModelLast7Games(team_data):\n",
    "    \n",
    "    N = 7\n",
    "    num = len(features)\n",
    "    \n",
    "    x_train = team_data.iloc[10:-N][features].values\n",
    "    y_train = team_data.iloc[10:-N][output]#.map({'W':1, 'L':0}).values\n",
    "    \n",
    "    x_test = team_data.iloc[-N:][features].values\n",
    "    y_test = team_data.iloc[-N:][output]#.map({'W':1, 'L':0}).values\n",
    "    \n",
    "    x_train = np.array(x_train).reshape(len(x_train), num)\n",
    "    y_train = np.array(y_train).reshape(len(y_train), 1)\n",
    "    x_test = np.array(x_test).reshape(N,num)\n",
    "    y_test = np.array(y_test).reshape(N,1)\n",
    "    \n",
    "    reg = LogisticRegression()\n",
    "    reg.fit(x_train, y_train)\n",
    "    y_pred = reg.predict(x_test)\n",
    "    y_pred = np.array(y_pred).reshape(N,1)\n",
    "    \n",
    "    a = accuracy_score(y_pred, y_test)\n",
    "    model7_sum[team_data.iloc[0]['TEAM']] = round(a,3)\n",
    "    model7_accuracy.append(a)"
   ]
  },
  {
   "cell_type": "code",
   "execution_count": 185,
   "metadata": {},
   "outputs": [],
   "source": [
    "for team_data in teams_data_list:\n",
    "    ModelLast7Games(team_data)"
   ]
  },
  {
   "cell_type": "code",
   "execution_count": 186,
   "metadata": {},
   "outputs": [
    {
     "data": {
      "text/plain": [
       "{'Overall Accuracy': 0.7247619047619047}"
      ]
     },
     "execution_count": 186,
     "metadata": {},
     "output_type": "execute_result"
    }
   ],
   "source": [
    "modelLast7_sum['Overall Accuracy'] = mean(model7_accuracy)\n",
    "modelLast7_sum"
   ]
  },
  {
   "cell_type": "code",
   "execution_count": null,
   "metadata": {},
   "outputs": [],
   "source": []
  }
 ],
 "metadata": {
  "kernelspec": {
   "display_name": "Python 3",
   "language": "python",
   "name": "python3"
  },
  "language_info": {
   "codemirror_mode": {
    "name": "ipython",
    "version": 3
   },
   "file_extension": ".py",
   "mimetype": "text/x-python",
   "name": "python",
   "nbconvert_exporter": "python",
   "pygments_lexer": "ipython3",
   "version": "3.8.3"
  }
 },
 "nbformat": 4,
 "nbformat_minor": 4
}
